{
 "cells": [
  {
   "cell_type": "code",
   "execution_count": 114,
   "metadata": {},
   "outputs": [],
   "source": [
    "import os\n",
    "import csv"
   ]
  },
  {
   "cell_type": "code",
   "execution_count": 196,
   "metadata": {
    "tags": []
   },
   "outputs": [],
   "source": [
    "#Get State dictionary\n",
    "from StateAbb import us_state_abbrev\n",
    "#Get CSV data\n",
    "inpath = \"Resources/employee_data.csv\"\n",
    "#export to new file\n",
    "outpath = \"Analysis/fixed_employee_data.csv\"\n",
    "#make path for new file\n",
    "os.makedirs(os.path.dirname(outpath), exist_ok=True)\n",
    "#read old data\n",
    "with open(inpath) as infile:\n",
    "    csvreader = csv.reader(infile)\n",
    "    csvheader = next(csvreader)\n",
    "    #write new data\n",
    "    with open(outpath, 'w',newline=\"\") as outfile:\n",
    "        out = csv.writer(outfile, delimiter=\",\")\n",
    "        #write header\n",
    "        out.writerow([\"Emp ID\", \"First Name\", \"Last Name\", \"DOB\", \"SSN\", \"State\"])\n",
    "        #write rest of lines \n",
    "        for row in csvreader:\n",
    "            out.writerow([row[0], #row[0] = unchanged Employee ID\n",
    "            row[1].split(\" \")[0], row[1].split(\" \")[1], #row[1] = Employee Name that is split into First and Last, separated by space\n",
    "            row[2].split(\"-\")[1] + \"/\" + row[2].split(\"-\")[2] + \"/\" + row[2].split(\"-\")[0], #row[2] = Date of Birth format changed\n",
    "            \"****-**-\" + row[3].split(\"-\")[2], #Privacy SSN\n",
    "            us_state_abbrev.get(row[4])]) #get value of key from State Abbreviations dictionary\n",
    "infile.close()\n",
    "outfile.close()\n",
    "\n"
   ]
  },
  {
   "cell_type": "code",
   "execution_count": null,
   "metadata": {},
   "outputs": [],
   "source": []
  }
 ],
 "metadata": {
  "language_info": {
   "codemirror_mode": {
    "name": "ipython",
    "version": 3
   },
   "file_extension": ".py",
   "mimetype": "text/x-python",
   "name": "python",
   "nbconvert_exporter": "python",
   "pygments_lexer": "ipython3",
   "version": 3
  },
  "orig_nbformat": 2,
  "kernelspec": {
   "name": "python_defaultSpec_1594564550947",
   "display_name": "Python 3.7.6 64-bit ('base': conda)"
  }
 },
 "nbformat": 4,
 "nbformat_minor": 2
}